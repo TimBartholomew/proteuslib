{
 "cells": [
  {
   "cell_type": "markdown",
   "metadata": {},
   "source": [
    "# WaterTAP AEESP Workshop\n",
    "Demonstration of code-based user interface for WaterTAP\n",
    "\n",
    "## Dependencies\n",
    "### * Python - Programming language\n",
    "### * Pyomo - Python package for equation-oriented (or algebraic) modeling and optimization\n",
    "### * IDAES - Python package extending Pyomo for flowsheet modeling"
   ]
  },
  {
   "cell_type": "markdown",
   "metadata": {},
   "source": [
    "## Pyomo Example"
   ]
  },
  {
   "cell_type": "markdown",
   "metadata": {},
   "source": [
    "$${\\Large\n",
    "\\begin{array}\n",
    " \\text{\\min} & x_1^2 + x_2^2  \\\\\n",
    " \\text{s.t.} & x_1 + 2 x_2 \\geq 1 \n",
    "\\end{array}}$$"
   ]
  },
  {
   "cell_type": "markdown",
   "metadata": {},
   "source": [
    "### Solving Graphically"
   ]
  },
  {
   "attachments": {},
   "cell_type": "markdown",
   "metadata": {},
   "source": [
    "<img src=\"pyomo_solution.png\" width=\"500\" height=\"340\">"
   ]
  },
  {
   "cell_type": "markdown",
   "metadata": {},
   "source": [
    "### Solving with Pyomo\n",
    "### Import Pyomo package and solver"
   ]
  },
  {
   "cell_type": "code",
   "execution_count": 1,
   "metadata": {},
   "outputs": [],
   "source": [
    "from pyomo.environ import ConcreteModel, Var, Reals, Objective, Constraint, value, units\n",
    "from idaes.core.solvers import get_solver"
   ]
  },
  {
   "cell_type": "markdown",
   "metadata": {},
   "source": [
    "### Build model"
   ]
  },
  {
   "cell_type": "code",
   "execution_count": 2,
   "metadata": {},
   "outputs": [],
   "source": [
    "m = ConcreteModel(\"Pyomo Example\")\n",
    "m.x1 = Var()\n",
    "m.x2 = Var()\n",
    "m.obj = Objective(expr=m.x1**2 + m.x2**2)\n",
    "m.con = Constraint(expr=m.x1 + 2*m.x2 >= 1)"
   ]
  },
  {
   "cell_type": "markdown",
   "metadata": {},
   "source": [
    "### Print model"
   ]
  },
  {
   "cell_type": "code",
   "execution_count": 3,
   "metadata": {},
   "outputs": [
    {
     "name": "stdout",
     "output_type": "stream",
     "text": [
      "2 Var Declarations\n",
      "    x1 : Size=1, Index=None\n",
      "        Key  : Lower : Value : Upper : Fixed : Stale : Domain\n",
      "        None :  None :  None :  None : False :  True :  Reals\n",
      "    x2 : Size=1, Index=None\n",
      "        Key  : Lower : Value : Upper : Fixed : Stale : Domain\n",
      "        None :  None :  None :  None : False :  True :  Reals\n",
      "\n",
      "1 Objective Declarations\n",
      "    obj : Size=1, Index=None, Active=True\n",
      "        Key  : Active : Sense    : Expression\n",
      "        None :   True : minimize : x1**2 + x2**2\n",
      "\n",
      "1 Constraint Declarations\n",
      "    con : Size=1, Index=None, Active=True\n",
      "        Key  : Lower : Body      : Upper : Active\n",
      "        None :   1.0 : x1 + 2*x2 :  +Inf :   True\n",
      "\n",
      "4 Declarations: x1 x2 obj con\n"
     ]
    }
   ],
   "source": [
    "m.pprint()"
   ]
  },
  {
   "cell_type": "markdown",
   "metadata": {},
   "source": [
    "### Solve model"
   ]
  },
  {
   "cell_type": "code",
   "execution_count": 4,
   "metadata": {},
   "outputs": [
    {
     "name": "stdout",
     "output_type": "stream",
     "text": [
      "Ipopt 3.13.2: nlp_scaling_method=gradient-based\n",
      "tol=1e-06\n",
      "\n",
      "\n",
      "******************************************************************************\n",
      "This program contains Ipopt, a library for large-scale nonlinear optimization.\n",
      " Ipopt is released as open source code under the Eclipse Public License (EPL).\n",
      "         For more information visit http://projects.coin-or.org/Ipopt\n",
      "\n",
      "This version of Ipopt was compiled from source code available at\n",
      "    https://github.com/IDAES/Ipopt as part of the Institute for the Design of\n",
      "    Advanced Energy Systems Process Systems Engineering Framework (IDAES PSE\n",
      "    Framework) Copyright (c) 2018-2019. See https://github.com/IDAES/idaes-pse.\n",
      "\n",
      "This version of Ipopt was compiled using HSL, a collection of Fortran codes\n",
      "    for large-scale scientific computation.  All technical papers, sales and\n",
      "    publicity material resulting from use of the HSL codes within IPOPT must\n",
      "    contain the following acknowledgement:\n",
      "        HSL, a collection of Fortran codes for large-scale scientific\n",
      "        computation. See http://www.hsl.rl.ac.uk.\n",
      "******************************************************************************\n",
      "\n",
      "This is Ipopt version 3.13.2, running with linear solver ma27.\n",
      "\n",
      "Number of nonzeros in equality constraint Jacobian...:        0\n",
      "Number of nonzeros in inequality constraint Jacobian.:        2\n",
      "Number of nonzeros in Lagrangian Hessian.............:        2\n",
      "\n",
      "Total number of variables............................:        2\n",
      "                     variables with only lower bounds:        0\n",
      "                variables with lower and upper bounds:        0\n",
      "                     variables with only upper bounds:        0\n",
      "Total number of equality constraints.................:        0\n",
      "Total number of inequality constraints...............:        1\n",
      "        inequality constraints with only lower bounds:        1\n",
      "   inequality constraints with lower and upper bounds:        0\n",
      "        inequality constraints with only upper bounds:        0\n",
      "\n",
      "iter    objective    inf_pr   inf_du lg(mu)  ||d||  lg(rg) alpha_du alpha_pr  ls\n",
      "   0  0.0000000e+00 1.00e+00 8.33e-01  -1.0 0.00e+00    -  0.00e+00 0.00e+00   0\n",
      "   1  2.4446040e-01 0.00e+00 1.00e-06  -1.0 4.42e-01    -  1.00e+00 1.00e+00h  1\n",
      "   2  2.0606196e-01 0.00e+00 2.83e-08  -2.5 9.05e-02    -  1.00e+00 1.00e+00f  1\n",
      "   3  2.0023395e-01 0.00e+00 1.50e-09  -3.8 1.45e-02    -  1.00e+00 1.00e+00f  1\n",
      "   4  2.0000198e-01 0.00e+00 1.84e-11  -5.7 5.80e-04    -  1.00e+00 1.00e+00f  1\n",
      "   5  2.0000009e-01 0.00e+00 9.09e-13  -7.0 4.72e-06    -  1.00e+00 1.00e+00f  1\n",
      "\n",
      "Number of Iterations....: 5\n",
      "\n",
      "                                   (scaled)                 (unscaled)\n",
      "Objective...............:   2.0000008691799620e-01    2.0000008691799620e-01\n",
      "Dual infeasibility......:   9.0910612371430943e-13    9.0910612371430943e-13\n",
      "Constraint violation....:   0.0000000000000000e+00    0.0000000000000000e+00\n",
      "Complementarity.........:   9.0918006539850522e-08    9.0918006539850522e-08\n",
      "Overall NLP error.......:   9.0918006539850522e-08    9.0918006539850522e-08\n",
      "\n",
      "\n",
      "Number of objective function evaluations             = 6\n",
      "Number of objective gradient evaluations             = 6\n",
      "Number of equality constraint evaluations            = 0\n",
      "Number of inequality constraint evaluations          = 6\n",
      "Number of equality constraint Jacobian evaluations   = 0\n",
      "Number of inequality constraint Jacobian evaluations = 6\n",
      "Number of Lagrangian Hessian evaluations             = 5\n",
      "Total CPU secs in IPOPT (w/o function evaluations)   =      0.001\n",
      "Total CPU secs in NLP function evaluations           =      0.000\n",
      "\n",
      "EXIT: Optimal Solution Found.\n"
     ]
    }
   ],
   "source": [
    "solver = get_solver()\n",
    "results = solver.solve(m, tee=True)"
   ]
  },
  {
   "cell_type": "markdown",
   "metadata": {},
   "source": [
    "### Display solved model"
   ]
  },
  {
   "cell_type": "code",
   "execution_count": 5,
   "metadata": {},
   "outputs": [
    {
     "name": "stdout",
     "output_type": "stream",
     "text": [
      "Model Pyomo Example\n",
      "\n",
      "  Variables:\n",
      "    x1 : Size=1, Index=None\n",
      "        Key  : Lower : Value              : Upper : Fixed : Stale : Domain\n",
      "        None :  None : 0.2000000434589934 :  None : False : False :  Reals\n",
      "    x2 : Size=1, Index=None\n",
      "        Key  : Lower : Value              : Upper : Fixed : Stale : Domain\n",
      "        None :  None : 0.4000000869179868 :  None : False : False :  Reals\n",
      "\n",
      "  Objectives:\n",
      "    obj : Size=1, Index=None, Active=True\n",
      "        Key  : Active : Value\n",
      "        None :   True : 0.2000000869179962\n",
      "\n",
      "  Constraints:\n",
      "    con : Size=1\n",
      "        Key  : Lower : Body              : Upper\n",
      "        None :   1.0 : 1.000000217294967 :  None\n"
     ]
    }
   ],
   "source": [
    "m.display()"
   ]
  },
  {
   "cell_type": "markdown",
   "metadata": {},
   "source": [
    "### Print results"
   ]
  },
  {
   "cell_type": "code",
   "execution_count": 6,
   "metadata": {},
   "outputs": [
    {
     "name": "stdout",
     "output_type": "stream",
     "text": [
      "x1 = 0.20\n",
      "x2 = 0.40\n",
      "obj = 0.20\n"
     ]
    }
   ],
   "source": [
    "print(\"x1 = %.2f\" % value(m.x1))\n",
    "print(\"x2 = %.2f\" % value(m.x2))\n",
    "print(\"obj = %.2f\" % value(m.obj))"
   ]
  },
  {
   "cell_type": "markdown",
   "metadata": {},
   "source": [
    "### Pyomo recap\n",
    "* Pyomo supports equation oriented modeling and optimization capabilities within Python\n",
    "* Models are created by simply specifiying variables, constraints, and objectives\n",
    "* Models are solved with commercial or open-source solvers"
   ]
  },
  {
   "cell_type": "markdown",
   "metadata": {},
   "source": [
    "## WaterTAP Seawater Property Example\n",
    "This section shows how to build, scale, and solve a seawater property model using WaterTAP."
   ]
  },
  {
   "cell_type": "markdown",
   "metadata": {},
   "source": [
    "### Import WaterTAP and IDAES"
   ]
  },
  {
   "cell_type": "code",
   "execution_count": 7,
   "metadata": {},
   "outputs": [],
   "source": [
    "from idaes.core import FlowsheetBlock\n",
    "from idaes.core.util.scaling import calculate_scaling_factors, set_scaling_factor\n",
    "import watertap.property_models.seawater_prop_pack as properties"
   ]
  },
  {
   "cell_type": "markdown",
   "metadata": {},
   "source": [
    "### Create a seawater state block"
   ]
  },
  {
   "cell_type": "code",
   "execution_count": 8,
   "metadata": {},
   "outputs": [
    {
     "name": "stdout",
     "output_type": "stream",
     "text": [
      "Block fs.state_block[0]\n",
      "\n",
      "  Variables:\n",
      "    flow_mass_phase_comp : Mass flow rate\n",
      "        Size=2, Index=fs.state_block[0].flow_mass_phase_comp_index, Units=kg/s\n",
      "        Key            : Lower : Value : Upper : Fixed : Stale : Domain\n",
      "        ('Liq', 'H2O') : 1e-08 : 0.965 :  None : False : False : NonNegativeReals\n",
      "        ('Liq', 'TDS') : 1e-08 : 0.035 :  None : False : False : NonNegativeReals\n",
      "    temperature : Temperature\n",
      "        Size=1, Index=None, Units=K\n",
      "        Key  : Lower  : Value  : Upper : Fixed : Stale : Domain\n",
      "        None : 273.15 : 298.15 :  1000 : False : False : NonNegativeReals\n",
      "    pressure : Pressure\n",
      "        Size=1, Index=None, Units=Pa\n",
      "        Key  : Lower  : Value  : Upper      : Fixed : Stale : Domain\n",
      "        None : 1000.0 : 101325 : 50000000.0 : False : False : NonNegativeReals\n",
      "\n",
      "  Objectives:\n",
      "    None\n",
      "\n",
      "  Constraints:\n",
      "    None\n"
     ]
    }
   ],
   "source": [
    "# create pyomo model\n",
    "m = ConcreteModel()\n",
    "\n",
    "# create IDAES flowsheet\n",
    "m.fs = FlowsheetBlock(default={\"dynamic\": False})\n",
    "\n",
    "# create seawater property model\n",
    "m.fs.properties = properties.SeawaterParameterBlock()\n",
    "\n",
    "# create a state block\n",
    "m.fs.state_block = m.fs.properties.build_state_block([0], default={})\n",
    "\n",
    "# display the state block\n",
    "m.fs.state_block[0].display()"
   ]
  },
  {
   "cell_type": "markdown",
   "metadata": {},
   "source": [
    "### Set the state variables"
   ]
  },
  {
   "cell_type": "code",
   "execution_count": 9,
   "metadata": {},
   "outputs": [
    {
     "name": "stdout",
     "output_type": "stream",
     "text": [
      "Block fs.state_block[0]\n",
      "\n",
      "  Variables:\n",
      "    flow_mass_phase_comp : Mass flow rate\n",
      "        Size=2, Index=fs.state_block[0].flow_mass_phase_comp_index, Units=kg/s\n",
      "        Key            : Lower : Value : Upper : Fixed : Stale : Domain\n",
      "        ('Liq', 'H2O') : 1e-08 : 0.965 :  None :  True : False : NonNegativeReals\n",
      "        ('Liq', 'TDS') : 1e-08 : 0.035 :  None :  True : False : NonNegativeReals\n",
      "    temperature : Temperature\n",
      "        Size=1, Index=None, Units=K\n",
      "        Key  : Lower  : Value : Upper : Fixed : Stale : Domain\n",
      "        None : 273.15 :   298 :  1000 :  True : False : NonNegativeReals\n",
      "    pressure : Pressure\n",
      "        Size=1, Index=None, Units=Pa\n",
      "        Key  : Lower  : Value  : Upper      : Fixed : Stale : Domain\n",
      "        None : 1000.0 : 101325 : 50000000.0 :  True : False : NonNegativeReals\n",
      "\n",
      "  Objectives:\n",
      "    None\n",
      "\n",
      "  Constraints:\n",
      "    None\n"
     ]
    }
   ],
   "source": [
    "# fix state variables\n",
    "m.fs.state_block[0].flow_mass_phase_comp['Liq', 'H2O'].fix(0.965)\n",
    "m.fs.state_block[0].flow_mass_phase_comp['Liq', 'TDS'].fix(0.035)\n",
    "m.fs.state_block[0].temperature.fix(273 + 25)\n",
    "m.fs.state_block[0].pressure.fix(101325)\n",
    "\n",
    "# display state block\n",
    "m.fs.state_block[0].display()"
   ]
  },
  {
   "cell_type": "markdown",
   "metadata": {},
   "source": [
    "### Print supported properties"
   ]
  },
  {
   "cell_type": "code",
   "execution_count": 10,
   "metadata": {},
   "outputs": [
    {
     "name": "stdout",
     "output_type": "stream",
     "text": [
      "flow_mass_phase_comp\n",
      "temperature\n",
      "pressure\n",
      "mass_frac_phase_comp\n",
      "dens_mass_phase\n",
      "dens_mass_solvent\n",
      "flow_vol_phase\n",
      "flow_vol\n",
      "conc_mass_phase_comp\n",
      "flow_mol_phase_comp\n",
      "mole_frac_phase_comp\n",
      "molality_comp\n",
      "visc_d_phase\n",
      "osm_coeff\n",
      "pressure_osm\n",
      "enth_mass_phase\n",
      "enth_flow\n",
      "pressure_sat\n",
      "cp_phase\n",
      "therm_cond_phase\n",
      "dh_vap\n",
      "diffus_phase\n"
     ]
    }
   ],
   "source": [
    "# access property metadata\n",
    "metadata = m.fs.properties.get_metadata().properties\n",
    "\n",
    "# print metadata\n",
    "for variable_name in metadata:\n",
    "     print(variable_name)"
   ]
  },
  {
   "cell_type": "markdown",
   "metadata": {},
   "source": [
    "### View supported properties in documentation\n",
    "https://watertap.readthedocs.io/en/latest/technical_reference/property_models/seawater.html"
   ]
  },
  {
   "cell_type": "markdown",
   "metadata": {},
   "source": [
    "### Create mass fraction property"
   ]
  },
  {
   "cell_type": "code",
   "execution_count": 11,
   "metadata": {},
   "outputs": [
    {
     "name": "stdout",
     "output_type": "stream",
     "text": [
      "Block fs.state_block[0]\n",
      "\n",
      "  Variables:\n",
      "    flow_mass_phase_comp : Mass flow rate\n",
      "        Size=2, Index=fs.state_block[0].flow_mass_phase_comp_index, Units=kg/s\n",
      "        Key            : Lower : Value : Upper : Fixed : Stale : Domain\n",
      "        ('Liq', 'H2O') : 1e-08 : 0.965 :  None :  True : False : NonNegativeReals\n",
      "        ('Liq', 'TDS') : 1e-08 : 0.035 :  None :  True : False : NonNegativeReals\n",
      "    temperature : Temperature\n",
      "        Size=1, Index=None, Units=K\n",
      "        Key  : Lower  : Value : Upper : Fixed : Stale : Domain\n",
      "        None : 273.15 :   298 :  1000 :  True : False : NonNegativeReals\n",
      "    pressure : Pressure\n",
      "        Size=1, Index=None, Units=Pa\n",
      "        Key  : Lower  : Value  : Upper      : Fixed : Stale : Domain\n",
      "        None : 1000.0 : 101325 : 50000000.0 :  True : False : NonNegativeReals\n",
      "    mass_frac_phase_comp : Mass fraction\n",
      "        Size=2, Index=fs.state_block[0].mass_frac_phase_comp_index\n",
      "        Key            : Lower : Value : Upper : Fixed : Stale : Domain\n",
      "        ('Liq', 'H2O') : 1e-08 :   0.1 :  None : False : False :  Reals\n",
      "        ('Liq', 'TDS') : 1e-08 :   0.1 :  None : False : False :  Reals\n",
      "\n",
      "  Objectives:\n",
      "    None\n",
      "\n",
      "  Constraints:\n",
      "    eq_mass_frac_phase_comp : Size=2\n",
      "        Key : Lower : Body   : Upper\n",
      "        H2O :   0.0 : -0.865 :   0.0\n",
      "        TDS :   0.0 :  0.065 :   0.0\n"
     ]
    }
   ],
   "source": [
    "# \"touch\" mass fraction\n",
    "m.fs.state_block[0].mass_frac_phase_comp\n",
    "\n",
    "# display the state block\n",
    "m.fs.state_block[0].display()"
   ]
  },
  {
   "cell_type": "markdown",
   "metadata": {},
   "source": [
    "### Solve state block to determine mass fraction"
   ]
  },
  {
   "cell_type": "code",
   "execution_count": 12,
   "metadata": {},
   "outputs": [
    {
     "name": "stdout",
     "output_type": "stream",
     "text": [
      "Block fs.state_block[0]\n",
      "\n",
      "  Variables:\n",
      "    flow_mass_phase_comp : Mass flow rate\n",
      "        Size=2, Index=fs.state_block[0].flow_mass_phase_comp_index, Units=kg/s\n",
      "        Key            : Lower : Value : Upper : Fixed : Stale : Domain\n",
      "        ('Liq', 'H2O') : 1e-08 : 0.965 :  None :  True :  True : NonNegativeReals\n",
      "        ('Liq', 'TDS') : 1e-08 : 0.035 :  None :  True :  True : NonNegativeReals\n",
      "    temperature : Temperature\n",
      "        Size=1, Index=None, Units=K\n",
      "        Key  : Lower  : Value : Upper : Fixed : Stale : Domain\n",
      "        None : 273.15 :   298 :  1000 :  True :  True : NonNegativeReals\n",
      "    pressure : Pressure\n",
      "        Size=1, Index=None, Units=Pa\n",
      "        Key  : Lower  : Value  : Upper      : Fixed : Stale : Domain\n",
      "        None : 1000.0 : 101325 : 50000000.0 :  True :  True : NonNegativeReals\n",
      "    mass_frac_phase_comp : Mass fraction\n",
      "        Size=2, Index=fs.state_block[0].mass_frac_phase_comp_index\n",
      "        Key            : Lower : Value : Upper : Fixed : Stale : Domain\n",
      "        ('Liq', 'H2O') : 1e-08 : 0.965 :  None : False : False :  Reals\n",
      "        ('Liq', 'TDS') : 1e-08 : 0.035 :  None : False : False :  Reals\n",
      "\n",
      "  Objectives:\n",
      "    None\n",
      "\n",
      "  Constraints:\n",
      "    eq_mass_frac_phase_comp : Size=2\n",
      "        Key : Lower : Body : Upper\n",
      "        H2O :   0.0 :  0.0 :   0.0\n",
      "        TDS :   0.0 :  0.0 :   0.0\n"
     ]
    }
   ],
   "source": [
    "# provide scaling factors\n",
    "m.fs.properties.set_default_scaling('flow_mass_phase_comp', 1, index=('Liq', 'H2O'))\n",
    "m.fs.properties.set_default_scaling('flow_mass_phase_comp', 1e2, index=('Liq', 'TDS'))\n",
    "calculate_scaling_factors(m)\n",
    "\n",
    "# solve the state block\n",
    "solver.solve(m.fs.state_block[0])\n",
    "\n",
    "# display the state block\n",
    "m.fs.state_block[0].display()"
   ]
  },
  {
   "cell_type": "markdown",
   "metadata": {},
   "source": [
    "### Create and solve osmotic pressure property"
   ]
  },
  {
   "cell_type": "code",
   "execution_count": 13,
   "metadata": {},
   "outputs": [
    {
     "name": "stdout",
     "output_type": "stream",
     "text": [
      "Block fs.state_block[0]\n",
      "\n",
      "  Variables:\n",
      "    flow_mass_phase_comp : Mass flow rate\n",
      "        Size=2, Index=fs.state_block[0].flow_mass_phase_comp_index, Units=kg/s\n",
      "        Key            : Lower : Value : Upper : Fixed : Stale : Domain\n",
      "        ('Liq', 'H2O') : 1e-08 : 0.965 :  None :  True :  True : NonNegativeReals\n",
      "        ('Liq', 'TDS') : 1e-08 : 0.035 :  None :  True :  True : NonNegativeReals\n",
      "    temperature : Temperature\n",
      "        Size=1, Index=None, Units=K\n",
      "        Key  : Lower  : Value : Upper : Fixed : Stale : Domain\n",
      "        None : 273.15 :   298 :  1000 :  True :  True : NonNegativeReals\n",
      "    pressure : Pressure\n",
      "        Size=1, Index=None, Units=Pa\n",
      "        Key  : Lower  : Value  : Upper      : Fixed : Stale : Domain\n",
      "        None : 1000.0 : 101325 : 50000000.0 :  True :  True : NonNegativeReals\n",
      "    mass_frac_phase_comp : Mass fraction\n",
      "        Size=2, Index=fs.state_block[0].mass_frac_phase_comp_index\n",
      "        Key            : Lower : Value : Upper : Fixed : Stale : Domain\n",
      "        ('Liq', 'H2O') : 1e-08 : 0.965 :  None : False : False :  Reals\n",
      "        ('Liq', 'TDS') : 1e-08 : 0.035 :  None : False : False :  Reals\n",
      "    pressure_osm : Osmotic pressure\n",
      "        Size=1, Index=None, Units=Pa\n",
      "        Key  : Lower : Value              : Upper       : Fixed : Stale : Domain\n",
      "        None :     1 : 2586985.0382106523 : 100000000.0 : False : False :  Reals\n",
      "    dens_mass_solvent : Mass density of pure water\n",
      "        Size=1, Index=None, Units=kg/m**3\n",
      "        Key  : Lower : Value             : Upper     : Fixed : Stale : Domain\n",
      "        None :     1 : 996.9294768944163 : 1000000.0 : False : False :  Reals\n",
      "    osm_coeff : Osmotic coefficient\n",
      "        Size=1, Index=None\n",
      "        Key  : Lower : Value              : Upper : Fixed : Stale : Domain\n",
      "        None : 1e-08 : 0.9068194026543591 :    10 : False : False :  Reals\n",
      "    molality_comp : Molality\n",
      "        Size=1, Index=fs.state_block[0].molality_comp_index, Units=mol/kg\n",
      "        Key : Lower : Value              : Upper     : Fixed : Stale : Domain\n",
      "        TDS : 1e-06 : 1.1549368189260796 : 1000000.0 : False : False :  Reals\n",
      "\n",
      "  Objectives:\n",
      "    None\n",
      "\n",
      "  Constraints:\n",
      "    eq_mass_frac_phase_comp : Size=2\n",
      "        Key : Lower : Body : Upper\n",
      "        H2O :   0.0 :  0.0 :   0.0\n",
      "        TDS :   0.0 :  0.0 :   0.0\n",
      "    eq_pressure_osm : Size=1\n",
      "        Key  : Lower : Body : Upper\n",
      "        None :   0.0 :  0.0 :   0.0\n",
      "    eq_dens_mass_solvent : Size=1\n",
      "        Key  : Lower : Body : Upper\n",
      "        None :   0.0 :  0.0 :   0.0\n",
      "    eq_osm_coeff : Size=1\n",
      "        Key  : Lower : Body                   : Upper\n",
      "        None :   0.0 : 1.1102230246251565e-16 :   0.0\n",
      "    eq_molality_comp : Size=1\n",
      "        Key : Lower : Body : Upper\n",
      "        TDS :   0.0 :  0.0 :   0.0\n"
     ]
    }
   ],
   "source": [
    "# \"touch\" osmotic pressure\n",
    "m.fs.state_block[0].pressure_osm\n",
    "\n",
    "# solve the state block\n",
    "solver.solve(m.fs.state_block[0])\n",
    "\n",
    "# display the state block\n",
    "m.fs.state_block[0].display()"
   ]
  },
  {
   "cell_type": "markdown",
   "metadata": {},
   "source": [
    "### Convert osmotic pressure units to bar"
   ]
  },
  {
   "cell_type": "code",
   "execution_count": 14,
   "metadata": {},
   "outputs": [
    {
     "data": {
      "text/plain": [
       "25.869850382106524"
      ]
     },
     "execution_count": 14,
     "metadata": {},
     "output_type": "execute_result"
    }
   ],
   "source": [
    "value(units.convert(m.fs.state_block[0].pressure_osm, to_units=units.bar))"
   ]
  },
  {
   "cell_type": "markdown",
   "metadata": {},
   "source": [
    "### Solve for osmotic pressure using other variables"
   ]
  },
  {
   "cell_type": "code",
   "execution_count": 15,
   "metadata": {},
   "outputs": [
    {
     "name": "stdout",
     "output_type": "stream",
     "text": [
      "Block fs.state_block[0]\n",
      "\n",
      "  Variables:\n",
      "    flow_mass_phase_comp : Mass flow rate\n",
      "        Size=2, Index=fs.state_block[0].flow_mass_phase_comp_index, Units=kg/s\n",
      "        Key            : Lower : Value                : Upper : Fixed : Stale : Domain\n",
      "        ('Liq', 'H2O') : 1e-08 :   0.2731349020597548 :  None : False : False : NonNegativeReals\n",
      "        ('Liq', 'TDS') : 1e-08 : 0.014375521161039727 :  None : False : False : NonNegativeReals\n",
      "    temperature : Temperature\n",
      "        Size=1, Index=None, Units=K\n",
      "        Key  : Lower  : Value : Upper : Fixed : Stale : Domain\n",
      "        None : 273.15 :   298 :  1000 :  True :  True : NonNegativeReals\n",
      "    pressure : Pressure\n",
      "        Size=1, Index=None, Units=Pa\n",
      "        Key  : Lower  : Value  : Upper      : Fixed : Stale : Domain\n",
      "        None : 1000.0 : 101325 : 50000000.0 :  True :  True : NonNegativeReals\n",
      "    mass_frac_phase_comp : Mass fraction\n",
      "        Size=2, Index=fs.state_block[0].mass_frac_phase_comp_index\n",
      "        Key            : Lower : Value : Upper : Fixed : Stale : Domain\n",
      "        ('Liq', 'H2O') : 1e-08 :  0.95 :  None : False : False :  Reals\n",
      "        ('Liq', 'TDS') : 1e-08 :  0.05 :  None :  True :  True :  Reals\n",
      "    pressure_osm : Osmotic pressure\n",
      "        Size=1, Index=None, Units=Pa\n",
      "        Key  : Lower : Value             : Upper       : Fixed : Stale : Domain\n",
      "        None :     1 : 3788200.372038465 : 100000000.0 : False : False :  Reals\n",
      "    dens_mass_solvent : Mass density of pure water\n",
      "        Size=1, Index=None, Units=kg/m**3\n",
      "        Key  : Lower : Value             : Upper     : Fixed : Stale : Domain\n",
      "        None :     1 : 996.9294768944163 : 1000000.0 : False : False :  Reals\n",
      "    osm_coeff : Osmotic coefficient\n",
      "        Size=1, Index=None\n",
      "        Key  : Lower : Value              : Upper : Fixed : Stale : Domain\n",
      "        None : 1e-08 : 0.9150696707527196 :    10 : False : False :  Reals\n",
      "    molality_comp : Molality\n",
      "        Size=1, Index=fs.state_block[0].molality_comp_index, Units=mol/kg\n",
      "        Key : Lower : Value              : Upper     : Fixed : Stale : Domain\n",
      "        TDS : 1e-06 : 1.6759609477649127 : 1000000.0 : False : False :  Reals\n",
      "    flow_vol_phase : Volumetric flow rate\n",
      "        Size=1, Index=fs.properties.phase_list, Units=m**3/s\n",
      "        Key : Lower : Value                 : Upper : Fixed : Stale : Domain\n",
      "        Liq : 1e-08 : 0.0002777777777777778 :  None :  True :  True :  Reals\n",
      "    dens_mass_phase : Mass density of seawater\n",
      "        Size=1, Index=fs.properties.phase_list, Units=kg/m**3\n",
      "        Key : Lower : Value              : Upper     : Fixed : Stale : Domain\n",
      "        Liq :     1 : 1035.0375235948602 : 1000000.0 : False : False :  Reals\n",
      "\n",
      "  Objectives:\n",
      "    None\n",
      "\n",
      "  Constraints:\n",
      "    eq_mass_frac_phase_comp : Size=2\n",
      "        Key : Lower : Body                  : Upper\n",
      "        H2O :   0.0 :                   0.0 :   0.0\n",
      "        TDS :   0.0 : 6.938893903907228e-16 :   0.0\n",
      "    eq_pressure_osm : Size=1\n",
      "        Key  : Lower : Body : Upper\n",
      "        None :   0.0 :  0.0 :   0.0\n",
      "    eq_dens_mass_solvent : Size=1\n",
      "        Key  : Lower : Body : Upper\n",
      "        None :   0.0 :  0.0 :   0.0\n",
      "    eq_osm_coeff : Size=1\n",
      "        Key  : Lower : Body : Upper\n",
      "        None :   0.0 :  0.0 :   0.0\n",
      "    eq_molality_comp : Size=1\n",
      "        Key : Lower : Body                  : Upper\n",
      "        TDS :   0.0 : 2.220446049250313e-16 :   0.0\n",
      "    eq_flow_vol_phase : Size=1\n",
      "        Key  : Lower : Body                   : Upper\n",
      "        None :   0.0 : -5.421010862427522e-20 :   0.0\n",
      "    eq_dens_mass_phase : Size=1\n",
      "        Key  : Lower : Body                    : Upper\n",
      "        None :   0.0 : -2.2737367544323206e-13 :   0.0\n",
      "Osmotic pressure: 37.9 bar\n"
     ]
    }
   ],
   "source": [
    "# Fix volumetric flowrate and TDS mass fraction\n",
    "m.fs.state_block[0].flow_vol_phase['Liq'].fix(1 * (units.m ** 3 / units.hr)) # can provide units here\n",
    "m.fs.state_block[0].mass_frac_phase_comp['Liq', 'TDS'].fix(0.05)\n",
    "\n",
    "# Unfix the previously fixed state variables\n",
    "m.fs.state_block[0].flow_mass_phase_comp['Liq', 'H2O'].unfix()\n",
    "m.fs.state_block[0].flow_mass_phase_comp['Liq', 'TDS'].unfix()\n",
    "\n",
    "# Solve the state block\n",
    "results = solver.solve(m.fs.state_block[0])\n",
    "\n",
    "# Display the state block\n",
    "m.fs.state_block[0].display()\n",
    "\n",
    "# Print osmotic pressure in bar\n",
    "print(\"Osmotic pressure: %.1f bar\" % value(units.convert(m.fs.state_block[0].pressure_osm,to_units=units.bar)))"
   ]
  },
  {
   "cell_type": "markdown",
   "metadata": {},
   "source": [
    "### Solve for other variables using a specified osmotic pressure"
   ]
  },
  {
   "cell_type": "code",
   "execution_count": 16,
   "metadata": {},
   "outputs": [
    {
     "name": "stdout",
     "output_type": "stream",
     "text": [
      "Block fs.state_block[0]\n",
      "\n",
      "  Variables:\n",
      "    flow_mass_phase_comp : Mass flow rate\n",
      "        Size=2, Index=fs.state_block[0].flow_mass_phase_comp_index, Units=kg/s\n",
      "        Key            : Lower : Value               : Upper : Fixed : Stale : Domain\n",
      "        ('Liq', 'H2O') : 1e-08 :  0.2702987496420657 :  None : False : False : NonNegativeReals\n",
      "        ('Liq', 'TDS') : 1e-08 : 0.02367839447702132 :  None : False : False : NonNegativeReals\n",
      "    temperature : Temperature\n",
      "        Size=1, Index=None, Units=K\n",
      "        Key  : Lower  : Value : Upper : Fixed : Stale : Domain\n",
      "        None : 273.15 :   298 :  1000 :  True :  True : NonNegativeReals\n",
      "    pressure : Pressure\n",
      "        Size=1, Index=None, Units=Pa\n",
      "        Key  : Lower  : Value  : Upper      : Fixed : Stale : Domain\n",
      "        None : 1000.0 : 101325 : 50000000.0 :  True :  True : NonNegativeReals\n",
      "    mass_frac_phase_comp : Mass fraction\n",
      "        Size=2, Index=fs.state_block[0].mass_frac_phase_comp_index\n",
      "        Key            : Lower : Value               : Upper : Fixed : Stale : Domain\n",
      "        ('Liq', 'H2O') : 1e-08 :  0.9194549816177905 :  None : False : False :  Reals\n",
      "        ('Liq', 'TDS') : 1e-08 : 0.08054501838220952 :  None : False : False :  Reals\n",
      "    pressure_osm : Osmotic pressure\n",
      "        Size=1, Index=None, Units=Pa\n",
      "        Key  : Lower : Value     : Upper       : Fixed : Stale : Domain\n",
      "        None :     1 : 6500000.0 : 100000000.0 :  True :  True :  Reals\n",
      "    dens_mass_solvent : Mass density of pure water\n",
      "        Size=1, Index=None, Units=kg/m**3\n",
      "        Key  : Lower : Value             : Upper     : Fixed : Stale : Domain\n",
      "        None :     1 : 996.9294768944163 : 1000000.0 : False : False :  Reals\n",
      "    osm_coeff : Osmotic coefficient\n",
      "        Size=1, Index=None\n",
      "        Key  : Lower : Value              : Upper : Fixed : Stale : Domain\n",
      "        None : 1e-08 : 0.9433497957115153 :    10 : False : False :  Reals\n",
      "    molality_comp : Molality\n",
      "        Size=1, Index=fs.state_block[0].molality_comp_index, Units=mol/kg\n",
      "        Key : Lower : Value            : Upper     : Fixed : Stale : Domain\n",
      "        TDS : 1e-06 : 2.78949579135826 : 1000000.0 : False : False :  Reals\n",
      "    flow_vol_phase : Volumetric flow rate\n",
      "        Size=1, Index=fs.properties.phase_list, Units=m**3/s\n",
      "        Key : Lower : Value                 : Upper : Fixed : Stale : Domain\n",
      "        Liq : 1e-08 : 0.0002777777777777778 :  None :  True :  True :  Reals\n",
      "    dens_mass_phase : Mass density of seawater\n",
      "        Size=1, Index=fs.properties.phase_list, Units=kg/m**3\n",
      "        Key : Lower : Value              : Upper     : Fixed : Stale : Domain\n",
      "        Liq :     1 : 1058.3177188287134 : 1000000.0 : False : False :  Reals\n",
      "\n",
      "  Objectives:\n",
      "    None\n",
      "\n",
      "  Constraints:\n",
      "    eq_mass_frac_phase_comp : Size=2\n",
      "        Key : Lower : Body : Upper\n",
      "        H2O :   0.0 :  0.0 :   0.0\n",
      "        TDS :   0.0 :  0.0 :   0.0\n",
      "    eq_pressure_osm : Size=1\n",
      "        Key  : Lower : Body                  : Upper\n",
      "        None :   0.0 : 9.313225746154785e-10 :   0.0\n",
      "    eq_dens_mass_solvent : Size=1\n",
      "        Key  : Lower : Body : Upper\n",
      "        None :   0.0 :  0.0 :   0.0\n",
      "    eq_osm_coeff : Size=1\n",
      "        Key  : Lower : Body                    : Upper\n",
      "        None :   0.0 : -1.1102230246251565e-16 :   0.0\n",
      "    eq_molality_comp : Size=1\n",
      "        Key : Lower : Body                   : Upper\n",
      "        TDS :   0.0 : -4.440892098500626e-16 :   0.0\n",
      "    eq_flow_vol_phase : Size=1\n",
      "        Key  : Lower : Body                  : Upper\n",
      "        None :   0.0 : 5.421010862427522e-20 :   0.0\n",
      "    eq_dens_mass_phase : Size=1\n",
      "        Key  : Lower : Body                   : Upper\n",
      "        None :   0.0 : 2.2737367544323206e-13 :   0.0\n"
     ]
    }
   ],
   "source": [
    "# fix the osmotic pressure\n",
    "m.fs.state_block[0].pressure_osm.fix(65 * units.bar)\n",
    "\n",
    "# unfix the previously fixed mass fraction\n",
    "m.fs.state_block[0].mass_frac_phase_comp['Liq', 'TDS'].unfix()\n",
    "\n",
    "# solve the state block\n",
    "solver.solve(m.fs.state_block[0])\n",
    "\n",
    "# display the state block\n",
    "m.fs.state_block[0].display()"
   ]
  },
  {
   "cell_type": "markdown",
   "metadata": {},
   "source": [
    "### Create a plot for osmotic pressure as a function of concentration"
   ]
  },
  {
   "cell_type": "code",
   "execution_count": 17,
   "metadata": {},
   "outputs": [],
   "source": [
    "# unfix osmotic pressure\n",
    "m.fs.state_block[0].pressure_osm.unfix()\n",
    "\n",
    "# simulate osmotic pressure over a range of concentrations\n",
    "concentration_list = range(1, 250, 5)\n",
    "pressure_osm_list = []\n",
    "for c in concentration_list:\n",
    "    m.fs.state_block[0].conc_mass_phase_comp[\"Liq\", \"TDS\"].fix(c)  # fix concentration\n",
    "    solver.solve(m.fs.state_block[0])  # solve\n",
    "    pressure_osm_list.append(value(units.convert(m.fs.state_block[0].pressure_osm, to_units=units.bar))) # save osmotic pressure"
   ]
  },
  {
   "cell_type": "code",
   "execution_count": 18,
   "metadata": {},
   "outputs": [
    {
     "data": {
      "text/plain": [
       "(0.0, 250.0)"
      ]
     },
     "execution_count": 18,
     "metadata": {},
     "output_type": "execute_result"
    },
    {
     "data": {
      "image/png": "[encoded data removed]",
      "text/plain": [
       "<Figure size 720x576 with 1 Axes>"
      ]
     },
     "metadata": {
      "needs_background": "light"
     },
     "output_type": "display_data"
    }
   ],
   "source": [
    "import matplotlib.pyplot as plt\n",
    "plt.figure(figsize=(10, 8))\n",
    "plt.rc(\"font\", size=18)\n",
    "plt.plot(concentration_list, pressure_osm_list, \"ko-\", lw=2.0)\n",
    "plt.xlabel(\"Concentration (g/L)\")\n",
    "plt.ylabel(\"Osmotic Pressure (bar)\")\n",
    "plt.xlim(0, 250)\n",
    "plt.ylim(0, 250)"
   ]
  },
  {
   "cell_type": "markdown",
   "metadata": {},
   "source": [
    "## Reverse Osmosis Demonstration\n",
    "This section shows how to build, scale, initialize, and simulate reverse osmosis (RO) unit model using WaterTAP."
   ]
  },
  {
   "cell_type": "markdown",
   "metadata": {},
   "source": [
    "### Import and build RO model"
   ]
  },
  {
   "cell_type": "code",
   "execution_count": 19,
   "metadata": {},
   "outputs": [],
   "source": [
    "from watertap.unit_models.reverse_osmosis_0D import (ReverseOsmosis0D, ConcentrationPolarizationType, \n",
    "                                                     MassTransferCoefficient, PressureChangeType)\n",
    "\n",
    "# create a Pyomo model\n",
    "m = ConcreteModel()\n",
    "\n",
    "# create IDAES flowsheet\n",
    "m.fs = FlowsheetBlock(default={'dynamic':False})\n",
    "\n",
    "# create property model\n",
    "m.fs.properties = properties.SeawaterParameterBlock()\n",
    "\n",
    "# create RO unit model and specify options\n",
    "m.fs.RO = ReverseOsmosis0D(default={\n",
    "        \"property_package\": m.fs.properties,\n",
    "        \"has_pressure_change\": True,\n",
    "        \"pressure_change_type\": PressureChangeType.calculated,\n",
    "        \"mass_transfer_coefficient\": MassTransferCoefficient.calculated,\n",
    "        \"concentration_polarization_type\": ConcentrationPolarizationType.calculated})"
   ]
  },
  {
   "cell_type": "markdown",
   "metadata": {},
   "source": [
    "### Check degrees of freedom\n",
    "There should be zero degrees of freedom for a simulation"
   ]
  },
  {
   "cell_type": "code",
   "execution_count": 20,
   "metadata": {},
   "outputs": [
    {
     "name": "stdout",
     "output_type": "stream",
     "text": [
      "DOF =  11\n"
     ]
    }
   ],
   "source": [
    "from idaes.core.util.model_statistics import degrees_of_freedom\n",
    "print(\"DOF = \", degrees_of_freedom(m))"
   ]
  },
  {
   "cell_type": "markdown",
   "metadata": {},
   "source": [
    "### Specify values for RO variables"
   ]
  },
  {
   "cell_type": "code",
   "execution_count": 21,
   "metadata": {},
   "outputs": [
    {
     "name": "stdout",
     "output_type": "stream",
     "text": [
      "DOF =  0\n"
     ]
    }
   ],
   "source": [
    "# fix the 4 inlet state variables\n",
    "m.fs.RO.inlet.flow_mass_phase_comp[0, 'Liq', 'TDS'].fix(0.035)   # feed mass flowrate of NaCl (kg/s)\n",
    "m.fs.RO.inlet.flow_mass_phase_comp[0, 'Liq', 'H2O'].fix(0.965)   # feed mass flowrate of water (kg/s)\n",
    "m.fs.RO.inlet.pressure[0].fix(50e5)                              # feed pressure (Pa)\n",
    "m.fs.RO.inlet.temperature[0].fix(298.15)                         # feed temperature (K)\n",
    "\n",
    "# fix 2 membrane properties\n",
    "m.fs.RO.A_comp.fix(4.2e-12)                                      # membrane water permeability coeff (m/Pa/s)\n",
    "m.fs.RO.B_comp.fix(3.5e-8)                                       # membrane salt permeability coeff (m/s)\n",
    "\n",
    "# fix 5 module specficiations\n",
    "m.fs.RO.area.fix(50)                                             # membrane stage area (m^2)\n",
    "m.fs.RO.width.fix(5)                                             # membrane stage width (m)\n",
    "m.fs.RO.channel_height.fix(1e-3)                                 # channel height in membrane stage [m]\n",
    "m.fs.RO.spacer_porosity.fix(0.97)                                # spacer porosity in membrane stage [-]\n",
    "m.fs.RO.permeate.pressure[0].fix(101325)                         # permeate pressure (Pa)\n",
    "\n",
    "print(\"DOF = \", degrees_of_freedom(m))"
   ]
  },
  {
   "cell_type": "markdown",
   "metadata": {},
   "source": [
    "### Scale, initialize, and solve model"
   ]
  },
  {
   "cell_type": "code",
   "execution_count": 22,
   "metadata": {},
   "outputs": [
    {
     "name": "stdout",
     "output_type": "stream",
     "text": [
      "2022-06-25 07:20:27 [INFO] idaes.init.fs.RO.feed_side.properties_in: Property initialization: optimal - Optimal Solution Found.\n",
      "2022-06-25 07:20:27 [INFO] idaes.init.fs.RO: Initialization Step 1 Complete.\n",
      "2022-06-25 07:20:27 [INFO] idaes.init.fs.RO.feed_side.properties_out: Property initialization: optimal - Optimal Solution Found.\n",
      "2022-06-25 07:20:27 [INFO] idaes.init.fs.RO.feed_side.properties_out: fs.RO.feed_side.properties_out State Released.\n",
      "2022-06-25 07:20:27 [INFO] idaes.init.fs.RO.feed_side.properties_interface: Property initialization: optimal - Optimal Solution Found.\n",
      "2022-06-25 07:20:27 [INFO] idaes.init.fs.RO.feed_side.properties_interface: fs.RO.feed_side.properties_interface State Released.\n",
      "2022-06-25 07:20:27 [INFO] idaes.init.fs.RO.mixed_permeate: Property initialization: optimal - Optimal Solution Found.\n",
      "2022-06-25 07:20:27 [INFO] idaes.init.fs.RO.mixed_permeate: fs.RO.mixed_permeate State Released.\n",
      "2022-06-25 07:20:27 [INFO] idaes.init.fs.RO.permeate_side: Property initialization: optimal - Optimal Solution Found.\n",
      "2022-06-25 07:20:27 [INFO] idaes.init.fs.RO.permeate_side: fs.RO.permeate_side State Released.\n",
      "2022-06-25 07:20:27 [INFO] idaes.init.fs.RO: Initialization Step 2 Complete.\n",
      "2022-06-25 07:20:28 [INFO] idaes.init.fs.RO: Initialization Step 3 successful.\n",
      "2022-06-25 07:20:28 [INFO] idaes.init.fs.RO.feed_side.properties_in: fs.RO.feed_side.properties_in State Released.\n",
      "2022-06-25 07:20:28 [INFO] idaes.init.fs.RO: Initialization Complete: optimal - Optimal Solution Found\n"
     ]
    }
   ],
   "source": [
    "# provide scaling factors\n",
    "m.fs.properties.set_default_scaling('flow_mass_phase_comp', 1, index=('Liq', 'H2O'))\n",
    "m.fs.properties.set_default_scaling('flow_mass_phase_comp', 1e2, index=('Liq', 'TDS'))\n",
    "set_scaling_factor(m.fs.RO.area, 1e-2)\n",
    "calculate_scaling_factors(m)\n",
    "\n",
    "# initailize RO\n",
    "m.fs.RO.initialize()\n",
    "\n",
    "# solve\n",
    "results = solver.solve(m)"
   ]
  },
  {
   "cell_type": "markdown",
   "metadata": {},
   "source": [
    "### Display report"
   ]
  },
  {
   "cell_type": "code",
   "execution_count": 23,
   "metadata": {},
   "outputs": [
    {
     "name": "stdout",
     "output_type": "stream",
     "text": [
      "\n",
      "====================================================================================\n",
      "Unit : fs.RO                                                               Time: 0.0\n",
      "------------------------------------------------------------------------------------\n",
      "    Unit Performance\n",
      "\n",
      "    Variables: \n",
      "\n",
      "    Key                        : Value   : Units         : Fixed : Bounds\n",
      "                 Membrane Area :  50.000 :    meter ** 2 :  True : (0.1, 1000.0)\n",
      "    Solvent Mass Recovery Rate : 0.27343 : dimensionless : False : (0.01, 0.999999)\n",
      "      Volumetric Recovery Rate : 0.27094 : dimensionless : False : (0.01, 0.999999)\n",
      "\n",
      "------------------------------------------------------------------------------------\n",
      "    Stream Table\n",
      "                                              Units         Feed Inlet  Feed Outlet  Permeate Outlet\n",
      "    flow_mass_phase_comp ('Liq', 'H2O')  kilogram / second     0.96500     0.70114        0.26386   \n",
      "    flow_mass_phase_comp ('Liq', 'TDS')  kilogram / second    0.035000    0.034914     8.6026e-05   \n",
      "    temperature                                     kelvin      298.15      298.16         298.16   \n",
      "    pressure                                        pascal  5.0000e+06  4.9080e+06     1.0132e+05   \n",
      "====================================================================================\n"
     ]
    }
   ],
   "source": [
    "m.fs.RO.report()"
   ]
  },
  {
   "cell_type": "markdown",
   "metadata": {},
   "source": [
    "### Solve RO with fixed recovery\n",
    "Fix volumetric water recovery and determine the area"
   ]
  },
  {
   "cell_type": "code",
   "execution_count": 24,
   "metadata": {},
   "outputs": [
    {
     "name": "stdout",
     "output_type": "stream",
     "text": [
      "WARNING: Loading a SolverResults object with a warning status into\n",
      "    model.name=\"unknown\";\n",
      "      - termination condition: infeasible\n",
      "      - message from solver: Ipopt 3.13.2\\x3a Converged to a locally\n",
      "        infeasible point. Problem may be infeasible.\n",
      "\n",
      "====================================================================================\n",
      "Unit : fs.RO                                                               Time: 0.0\n",
      "------------------------------------------------------------------------------------\n",
      "    Unit Performance\n",
      "\n",
      "    Variables: \n",
      "\n",
      "    Key                        : Value   : Units         : Fixed : Bounds\n",
      "                 Membrane Area :  89.779 :    meter ** 2 : False : (0.1, 1000.0)\n",
      "    Solvent Mass Recovery Rate : 0.50163 : dimensionless : False : (0.01, 0.999999)\n",
      "      Volumetric Recovery Rate : 0.50000 : dimensionless :  True : (0.01, 0.999999)\n",
      "\n",
      "------------------------------------------------------------------------------------\n",
      "    Stream Table\n",
      "                                              Units         Feed Inlet  Feed Outlet  Permeate Outlet\n",
      "    flow_mass_phase_comp ('Liq', 'H2O')  kilogram / second     0.96500     0.48093        0.48407   \n",
      "    flow_mass_phase_comp ('Liq', 'TDS')  kilogram / second    0.035000    0.023365       0.011635   \n",
      "    temperature                                     kelvin      298.15      298.15         298.15   \n",
      "    pressure                                        pascal  5.0000e+06  4.9096e+06     1.0132e+05   \n",
      "====================================================================================\n"
     ]
    }
   ],
   "source": [
    "# fix recovery and unfix area\n",
    "m.fs.RO.recovery_vol_phase[0, \"Liq\"].fix(0.5)\n",
    "m.fs.RO.area.unfix()\n",
    "\n",
    "# solve model\n",
    "results = solver.solve(m)\n",
    "\n",
    "# display report\n",
    "m.fs.RO.report()"
   ]
  },
  {
   "cell_type": "markdown",
   "metadata": {},
   "source": [
    "## Full flowsheet optimization example\n",
    "<img src=\"RO_ERD_flowsheet.png\" width=\"500\" height=\"340\">"
   ]
  },
  {
   "cell_type": "markdown",
   "metadata": {},
   "source": [
    "### Import and build model"
   ]
  },
  {
   "cell_type": "code",
   "execution_count": 25,
   "metadata": {},
   "outputs": [
    {
     "name": "stdout",
     "output_type": "stream",
     "text": [
      "2022-06-25 07:20:28 [WARNING] idaes.core.base.costing_base: flow_expr is an expression with a lower bound of less than zero. Costing requires that all flows have a lower bound equal to or greater than zero to avoid negative costs.\n"
     ]
    }
   ],
   "source": [
    "from pyomo.environ import Param,TransformationFactory\n",
    "from pyomo.network import Arc\n",
    "from idaes.core.util.scaling import constraint_scaling_transform\n",
    "from idaes.core.util.initialization import propagate_state\n",
    "from idaes.models.unit_models import Mixer, Separator, Product, Feed\n",
    "from idaes.core import UnitModelCostingBlock\n",
    "from watertap.unit_models.pressure_changer import Pump, EnergyRecoveryDevice\n",
    "from watertap.costing import WaterTAPCosting\n",
    "\n",
    "# flowsheet setup\n",
    "m = ConcreteModel()\n",
    "m.fs = FlowsheetBlock(default={\"dynamic\": False})\n",
    "m.fs.properties = properties.SeawaterParameterBlock()\n",
    "m.fs.costing = WaterTAPCosting()  # costing model\n",
    "\n",
    "# unit models\n",
    "m.fs.feed = Feed(default={\"property_package\": m.fs.properties})\n",
    "m.fs.pump = Pump(default={\"property_package\": m.fs.properties})\n",
    "m.fs.RO = ReverseOsmosis0D(default={\n",
    "        \"property_package\": m.fs.properties,\n",
    "        \"has_pressure_change\": True,\n",
    "        \"pressure_change_type\": PressureChangeType.calculated,\n",
    "        \"mass_transfer_coefficient\": MassTransferCoefficient.calculated,\n",
    "        \"concentration_polarization_type\": ConcentrationPolarizationType.calculated})\n",
    "m.fs.erd = EnergyRecoveryDevice(default={\"property_package\": m.fs.properties})\n",
    "m.fs.product = Product(default={\"property_package\": m.fs.properties})\n",
    "m.fs.disposal = Product(default={\"property_package\": m.fs.properties})\n",
    "\n",
    "# unit costing - equipment capital and operating costs\n",
    "m.fs.pump.work_mechanical[0].setlb(0)\n",
    "m.fs.pump.costing = UnitModelCostingBlock(default={\"flowsheet_costing_block\": m.fs.costing})\n",
    "m.fs.RO.costing = UnitModelCostingBlock(default={\"flowsheet_costing_block\": m.fs.costing})\n",
    "m.fs.erd.costing = UnitModelCostingBlock(default={\n",
    "        \"flowsheet_costing_block\": m.fs.costing,\n",
    "        \"costing_method_arguments\": {\"energy_recovery_device_type\": \"pressure_exchanger\"}})\n",
    "\n",
    "# system costing - total investment and operating costs\n",
    "m.fs.costing.cost_process()\n",
    "m.fs.costing.add_annual_water_production(m.fs.product.properties[0].flow_vol)\n",
    "m.fs.costing.add_specific_energy_consumption(m.fs.product.properties[0].flow_vol)\n",
    "m.fs.costing.add_LCOW(m.fs.product.properties[0].flow_vol)\n",
    "\n",
    "# connections\n",
    "m.fs.s01 = Arc(source=m.fs.feed.outlet, destination=m.fs.pump.inlet)\n",
    "m.fs.s02 = Arc(source=m.fs.pump.outlet, destination=m.fs.RO.inlet)\n",
    "m.fs.s03 = Arc(source=m.fs.RO.permeate, destination=m.fs.product.inlet)\n",
    "m.fs.s04 = Arc(source=m.fs.RO.retentate, destination=m.fs.erd.inlet)\n",
    "m.fs.s05 = Arc(source=m.fs.erd.outlet, destination=m.fs.disposal.inlet)\n",
    "TransformationFactory(\"network.expand_arcs\").apply_to(m)\n",
    "\n",
    "# scaling\n",
    "# set default property values\n",
    "m.fs.properties.set_default_scaling(\"flow_mass_phase_comp\", 1, index=(\"Liq\", \"H2O\"))\n",
    "m.fs.properties.set_default_scaling(\"flow_mass_phase_comp\", 1e2, index=(\"Liq\", \"TDS\"))\n",
    "# set unit model values\n",
    "set_scaling_factor(m.fs.pump.control_volume.work, 1e-3)\n",
    "set_scaling_factor(m.fs.erd.control_volume.work, 1e-3)\n",
    "set_scaling_factor(m.fs.RO.area, 1e-2)\n",
    "# touch properties used in specifying the model\n",
    "m.fs.feed.properties[0].flow_vol_phase[\"Liq\"]\n",
    "m.fs.feed.properties[0].mass_frac_phase_comp[\"Liq\", \"TDS\"]\n",
    "m.fs.disposal.properties[0].flow_vol_phase[\"Liq\"]\n",
    "m.fs.disposal.properties[0].mass_frac_phase_comp[\"Liq\", \"TDS\"]\n",
    "# calculate and propagate scaling factors\n",
    "calculate_scaling_factors(m)"
   ]
  },
  {
   "cell_type": "markdown",
   "metadata": {},
   "source": [
    "### Check degrees of freedom"
   ]
  },
  {
   "cell_type": "code",
   "execution_count": 26,
   "metadata": {},
   "outputs": [
    {
     "name": "stdout",
     "output_type": "stream",
     "text": [
      "DOF =  15\n"
     ]
    }
   ],
   "source": [
    "print(\"DOF = \", degrees_of_freedom(m))"
   ]
  },
  {
   "cell_type": "markdown",
   "metadata": {},
   "source": [
    "### Specify the flowsheet"
   ]
  },
  {
   "cell_type": "code",
   "execution_count": 27,
   "metadata": {},
   "outputs": [
    {
     "name": "stdout",
     "output_type": "stream",
     "text": [
      "DOF =  0\n"
     ]
    }
   ],
   "source": [
    "# feed, 4 degrees of freedom\n",
    "m.fs.feed.properties[0].flow_vol_phase[\"Liq\"].fix(1e-3)                # volumetric flow rate (m3/s)\n",
    "m.fs.feed.properties[0].mass_frac_phase_comp[\"Liq\", \"TDS\"].fix(0.035)  # TDS mass fraction (-)\n",
    "m.fs.feed.properties[0].pressure.fix(101325)                           # pressure (Pa)\n",
    "m.fs.feed.properties[0].temperature.fix(273.15 + 25)                   # temperature (K)\n",
    "# m.fs.feed.properties.calculate_state(\n",
    "#         var_args={\n",
    "#             (\"flow_vol_phase\", \"Liq\"): 1e-3,  # feed volumetric flow rate [m3/s]\n",
    "#             (\"mass_frac_phase_comp\", (\"Liq\", \"TDS\")): 0.035,\n",
    "#         },  # feed TDS mass fraction [-]\n",
    "#         hold_state=True,  # fixes the calculated component mass flow rates\n",
    "#     )\n",
    "\n",
    "# high pressure pump, 2 degrees of freedom\n",
    "m.fs.pump.efficiency_pump.fix(0.80)                                    # pump efficiency (-)\n",
    "m.fs.pump.control_volume.properties_out[0].pressure.fix(75e5)          # pump outlet pressure (Pa)\n",
    "\n",
    "# RO unit, 7 degrees of freedom\n",
    "m.fs.RO.A_comp.fix(4.2e-12)                                            # membrane water permeability coeff (m/Pa/s)\n",
    "m.fs.RO.B_comp.fix(3.5e-8)                                             # membrane salt permeability coeff (m/s)\n",
    "m.fs.RO.recovery_vol_phase[0, \"Liq\"].fix(0.5)                          # volumetric recovery (-) *\n",
    "m.fs.RO.velocity[0, 0].fix(0.15)                                       # crossflow velocity (m/s) *\n",
    "m.fs.RO.channel_height.fix(1e-3)                                       # channel height in membrane stage (m)\n",
    "m.fs.RO.spacer_porosity.fix(0.97)                                      # spacer porosity in membrane stage (-)\n",
    "m.fs.RO.permeate.pressure[0].fix(101325)                               # permeate pressure (Pa)\n",
    "\n",
    "\n",
    "# energy recovery device, 2 degrees of freedom\n",
    "m.fs.erd.efficiency_pump.fix(0.80)                                     # erd efficiency (-)\n",
    "m.fs.erd.control_volume.properties_out[0].pressure.fix(101325)         # ERD outlet pressure (Pa)\n",
    "\n",
    "print(\"DOF = \", degrees_of_freedom(m))"
   ]
  },
  {
   "cell_type": "markdown",
   "metadata": {},
   "source": [
    "### Initialize and solve the flowsheet"
   ]
  },
  {
   "cell_type": "code",
   "execution_count": 28,
   "metadata": {
    "scrolled": false
   },
   "outputs": [
    {
     "name": "stdout",
     "output_type": "stream",
     "text": [
      "2022-06-25 07:20:28 [INFO] idaes.init.fs.pump.control_volume.properties_in: Property initialization: optimal - Optimal Solution Found.\n",
      "2022-06-25 07:20:29 [INFO] idaes.init.fs.pump.control_volume.properties_out: Property initialization: optimal - Optimal Solution Found.\n",
      "2022-06-25 07:20:29 [INFO] idaes.init.fs.pump.control_volume.properties_out: fs.pump.control_volume.properties_out State Released.\n",
      "2022-06-25 07:20:29 [INFO] idaes.init.fs.pump.control_volume: Initialization Complete\n",
      "2022-06-25 07:20:29 [INFO] idaes.init.fs.pump.control_volume.properties_in: fs.pump.control_volume.properties_in State Released.\n",
      "2022-06-25 07:20:29 [INFO] idaes.init.fs.pump: Initialization Complete: optimal - Optimal Solution Found\n",
      "2022-06-25 07:20:29 [INFO] idaes.init.fs.RO.feed_side.properties_in: Property initialization: optimal - Optimal Solution Found.\n",
      "2022-06-25 07:20:29 [INFO] idaes.init.fs.RO: Initialization Step 1 Complete.\n",
      "2022-06-25 07:20:29 [INFO] idaes.init.fs.RO.feed_side.properties_out: Property initialization: optimal - Optimal Solution Found.\n",
      "2022-06-25 07:20:29 [INFO] idaes.init.fs.RO.feed_side.properties_out: fs.RO.feed_side.properties_out State Released.\n",
      "2022-06-25 07:20:29 [INFO] idaes.init.fs.RO.feed_side.properties_interface: Property initialization: optimal - Optimal Solution Found.\n",
      "2022-06-25 07:20:29 [INFO] idaes.init.fs.RO.feed_side.properties_interface: fs.RO.feed_side.properties_interface State Released.\n",
      "2022-06-25 07:20:29 [INFO] idaes.init.fs.RO.mixed_permeate: Property initialization: optimal - Optimal Solution Found.\n",
      "2022-06-25 07:20:29 [INFO] idaes.init.fs.RO.mixed_permeate: fs.RO.mixed_permeate State Released.\n",
      "2022-06-25 07:20:29 [INFO] idaes.init.fs.RO.permeate_side: Property initialization: optimal - Optimal Solution Found.\n",
      "2022-06-25 07:20:29 [INFO] idaes.init.fs.RO.permeate_side: fs.RO.permeate_side State Released.\n",
      "2022-06-25 07:20:29 [INFO] idaes.init.fs.RO: Initialization Step 2 Complete.\n",
      "2022-06-25 07:20:30 [WARNING] idaes.init.fs.RO: Trouble solving ReverseOsmosis0D unit model, trying one more time\n",
      "2022-06-25 07:20:30 [INFO] idaes.init.fs.RO: Initialization Step 3 successful.\n",
      "2022-06-25 07:20:30 [INFO] idaes.init.fs.RO.feed_side.properties_in: fs.RO.feed_side.properties_in State Released.\n",
      "2022-06-25 07:20:30 [INFO] idaes.init.fs.RO: Initialization Complete: optimal - Optimal Solution Found\n",
      "2022-06-25 07:20:30 [INFO] idaes.init.fs.erd.control_volume.properties_in: Property initialization: optimal - Optimal Solution Found.\n",
      "2022-06-25 07:20:30 [INFO] idaes.init.fs.erd.control_volume.properties_out: Property initialization: optimal - Optimal Solution Found.\n",
      "2022-06-25 07:20:30 [INFO] idaes.init.fs.erd.control_volume.properties_out: fs.erd.control_volume.properties_out State Released.\n",
      "2022-06-25 07:20:30 [INFO] idaes.init.fs.erd.control_volume: Initialization Complete\n",
      "2022-06-25 07:20:30 [INFO] idaes.init.fs.erd.control_volume.properties_in: fs.erd.control_volume.properties_in State Released.\n",
      "2022-06-25 07:20:30 [INFO] idaes.init.fs.erd: Initialization Complete: optimal - Optimal Solution Found\n"
     ]
    }
   ],
   "source": [
    "# initialize unit by unit\n",
    "solver = get_solver()\n",
    "solver.solve(m.fs.feed)\n",
    "propagate_state(m.fs.s01)\n",
    "m.fs.pump.initialize()\n",
    "propagate_state(m.fs.s02)\n",
    "m.fs.RO.initialize()\n",
    "propagate_state(m.fs.s03)\n",
    "propagate_state(m.fs.s04)\n",
    "m.fs.erd.initialize()\n",
    "propagate_state(m.fs.s05)\n",
    "\n",
    "# initialize cost\n",
    "m.fs.costing.initialize()\n",
    "\n",
    "# solve model\n",
    "results = solver.solve(m) "
   ]
  },
  {
   "cell_type": "markdown",
   "metadata": {},
   "source": [
    "### Display results"
   ]
  },
  {
   "cell_type": "code",
   "execution_count": 29,
   "metadata": {},
   "outputs": [
    {
     "name": "stdout",
     "output_type": "stream",
     "text": [
      "----------system metrics----------\n",
      "Recovery: 50.0 %\n",
      "Specific energy: 3.50 $/m3\n",
      "Levelized cost of water: 0.64 $/m3\n",
      "\n",
      "----------inlet and outlets----------\n",
      "Feed: 3.60 m3/h, 35000 ppm\n",
      "Product: 1.80 m3/h, 275 ppm\n",
      "Disposal: 1.80 m3/h, 67974 ppm\n",
      "\n",
      "----------decision variables----------\n",
      "Operating pressure: 75.0 bar\n",
      "Membrane area: 56.1 m2\n",
      "Inlet crossflow velocity: 15.0 cm/s\n",
      "\n",
      "----------system variables----------\n",
      "Pump power: 9.2 kW\n",
      "ERD power: 2.9 kW\n",
      "Average water flux: 32.0 L/(m2-h)\n",
      "Pressure drop: 0.4 bar\n",
      "Maximum interfacial salinity: 79881 ppm\n"
     ]
    }
   ],
   "source": [
    "def display_results(m):\n",
    "    print(\"----------system metrics----------\")\n",
    "    print(\"Recovery: %.1f %%\" % (value(m.fs.RO.recovery_vol_phase[0, \"Liq\"])*100))\n",
    "    print(\"Specific energy: %.2f $/m3\" % value(m.fs.costing.specific_energy_consumption))\n",
    "    print(\"Levelized cost of water: %.2f $/m3\" % value(m.fs.costing.LCOW))\n",
    "\n",
    "    print(\"\\n----------inlet and outlets----------\")\n",
    "    print(\"Feed: %.2f m3/h, %.0f ppm\" %\n",
    "          (value(units.convert(m.fs.feed.properties[0].flow_vol_phase[\"Liq\"],\n",
    "                               to_units=units.m ** 3 / units.hr)),\n",
    "           value(m.fs.feed.properties[0].mass_frac_phase_comp[\"Liq\", \"TDS\"]) * 1e6))\n",
    "    print(\"Product: %.2f m3/h, %.0f ppm\" %\n",
    "          (value(units.convert(m.fs.product.properties[0].flow_vol_phase[\"Liq\"],\n",
    "                               to_units=units.m ** 3 / units.hr)),\n",
    "           value(m.fs.product.properties[0].mass_frac_phase_comp[\"Liq\", \"TDS\"]) * 1e6))\n",
    "    print(\"Disposal: %.2f m3/h, %.0f ppm\" %\n",
    "          (value(units.convert(m.fs.disposal.properties[0].flow_vol_phase[\"Liq\"],\n",
    "                               to_units=units.m ** 3 / units.hr)),\n",
    "           value(m.fs.disposal.properties[0].mass_frac_phase_comp[\"Liq\", \"TDS\"]) * 1e6))\n",
    "\n",
    "    print(\"\\n----------decision variables----------\")\n",
    "    print(\"Operating pressure: %.1f bar\" %\n",
    "          (value(units.convert(m.fs.pump.control_volume.properties_out[0].pressure,\n",
    "                               to_units=units.bar))))\n",
    "    print(\"Membrane area: %.1f m2\" % value(m.fs.RO.area))\n",
    "    print(\"Inlet crossflow velocity: %.1f cm/s\" %\n",
    "          (value(units.convert(m.fs.RO.velocity[0, 0],\n",
    "                               to_units=units.cm / units.s))))\n",
    "\n",
    "    print(\"\\n----------system variables----------\")\n",
    "    print(\"Pump power: %.1f kW\" %\n",
    "          (value(units.convert(m.fs.pump.work_mechanical[0], to_units=units.kW))))\n",
    "    print(\"ERD power: %.1f kW\" %\n",
    "          (-value(units.convert(m.fs.erd.work_mechanical[0], to_units=units.kW))))\n",
    "    print(\"Average water flux: %.1f L/(m2-h)\" %\n",
    "          value(units.convert(m.fs.RO.flux_mass_phase_comp_avg[0, \"Liq\", \"H2O\"]\n",
    "                              / (1000 * units.kg / units.m ** 3),\n",
    "                              to_units=units.mm / units.hr)))\n",
    "    print(\"Pressure drop: %.1f bar\" %\n",
    "          (-value(units.convert(m.fs.RO.deltaP[0],to_units=units.bar))))\n",
    "    print(\"Maximum interfacial salinity: %.0f ppm\" %\n",
    "          (value(m.fs.RO.feed_side.properties_interface[0, 1].mass_frac_phase_comp[\"Liq\", \"TDS\"])*1e6))\n",
    "\n",
    "display_results(m)"
   ]
  },
  {
   "cell_type": "markdown",
   "metadata": {},
   "source": [
    "## Setup cost optimization"
   ]
  },
  {
   "cell_type": "code",
   "execution_count": 30,
   "metadata": {},
   "outputs": [
    {
     "name": "stdout",
     "output_type": "stream",
     "text": [
      "DOF =  2\n"
     ]
    }
   ],
   "source": [
    "# objective\n",
    "m.fs.objective = Objective(expr=m.fs.costing.LCOW)  # minimize the LCOW\n",
    "\n",
    "# unfix decision variables and add bounds\n",
    "# pump\n",
    "m.fs.pump.control_volume.properties_out[0].pressure.unfix()\n",
    "m.fs.pump.control_volume.properties_out[0].pressure.setlb(10e5)\n",
    "m.fs.pump.control_volume.properties_out[0].pressure.setub(85e5)\n",
    "m.fs.pump.deltaP.setlb(0)\n",
    "\n",
    "# RO\n",
    "m.fs.RO.velocity[0, 0].unfix()\n",
    "m.fs.RO.velocity.setlb(0.01)\n",
    "m.fs.RO.velocity.setub(1)\n",
    "m.fs.RO.area.setlb(1)\n",
    "m.fs.RO.area.setub(150)\n",
    "\n",
    "# maximum product salinity\n",
    "m.fs.max_product_salinity = Param(initialize=500e-6, mutable=True, units=units.dimensionless)\n",
    "m.fs.eq_product_quality = Constraint(\n",
    "    expr=m.fs.product.properties[0].mass_frac_phase_comp[\"Liq\", \"TDS\"]\n",
    "    <= m.fs.max_product_salinity)\n",
    "constraint_scaling_transform(m.fs.eq_product_quality, 1e3)\n",
    "\n",
    "# maxium pressure\n",
    "m.fs.max_pressure = Param(initialize=85e5, mutable=True, units=units.Pa)\n",
    "m.fs.eq_max_pressure = Constraint(expr=m.fs.RO.feed_side.properties[0, 0].pressure <= m.fs.max_pressure)\n",
    "constraint_scaling_transform(m.fs.eq_max_pressure, 1e-6)\n",
    "\n",
    "# minimum water flux\n",
    "m.fs.minimum_water_flux = Param(initialize=3.0 / 3600.0, mutable=True, \n",
    "                                units=units.kg / units.m**2 / units.s)  # minimum water flux [kg/m2-s]\n",
    "m.fs.eq_minimum_water_flux = Constraint(\n",
    "    expr=m.fs.RO.flux_mass_phase_comp[0, 1, \"Liq\", \"H2O\"] >= m.fs.minimum_water_flux)\n",
    "constraint_scaling_transform(m.fs.eq_max_pressure, 1e3)\n",
    "\n",
    "# check degrees of freedom\n",
    "# operating pressure + membrane area + crossflow velocity (i.e. width) - specified water recovery\n",
    "print(\"DOF = \", degrees_of_freedom(m))"
   ]
  },
  {
   "cell_type": "markdown",
   "metadata": {},
   "source": [
    "## Solve the optimization problem and display results"
   ]
  },
  {
   "cell_type": "code",
   "execution_count": 31,
   "metadata": {},
   "outputs": [
    {
     "name": "stdout",
     "output_type": "stream",
     "text": [
      "ipopt-watertap: Ipopt with user variable scaling and IDAES jacobian constraint scaling\n",
      "Ipopt 3.13.2: tol=1e-08\n",
      "constr_viol_tol=1e-08\n",
      "nlp_scaling_method=user-scaling\n",
      "bound_relax_factor=0.0\n",
      "\n",
      "\n",
      "******************************************************************************\n",
      "This program contains Ipopt, a library for large-scale nonlinear optimization.\n",
      " Ipopt is released as open source code under the Eclipse Public License (EPL).\n",
      "         For more information visit http://projects.coin-or.org/Ipopt\n",
      "\n",
      "This version of Ipopt was compiled from source code available at\n",
      "    https://github.com/IDAES/Ipopt as part of the Institute for the Design of\n",
      "    Advanced Energy Systems Process Systems Engineering Framework (IDAES PSE\n",
      "    Framework) Copyright (c) 2018-2019. See https://github.com/IDAES/idaes-pse.\n",
      "\n",
      "This version of Ipopt was compiled using HSL, a collection of Fortran codes\n",
      "    for large-scale scientific computation.  All technical papers, sales and\n",
      "    publicity material resulting from use of the HSL codes within IPOPT must\n",
      "    contain the following acknowledgement:\n",
      "        HSL, a collection of Fortran codes for large-scale scientific\n",
      "        computation. See http://www.hsl.rl.ac.uk.\n",
      "******************************************************************************\n",
      "\n",
      "This is Ipopt version 3.13.2, running with linear solver ma27.\n",
      "\n",
      "Number of nonzeros in equality constraint Jacobian...:      605\n",
      "Number of nonzeros in inequality constraint Jacobian.:        3\n",
      "Number of nonzeros in Lagrangian Hessian.............:      249\n",
      "\n",
      "Total number of variables............................:      212\n",
      "                     variables with only lower bounds:       76\n",
      "                variables with lower and upper bounds:      118\n",
      "                     variables with only upper bounds:        0\n",
      "Total number of equality constraints.................:      210\n",
      "Total number of inequality constraints...............:        3\n",
      "        inequality constraints with only lower bounds:        1\n",
      "   inequality constraints with lower and upper bounds:        0\n",
      "        inequality constraints with only upper bounds:        2\n",
      "\n",
      "iter    objective    inf_pr   inf_du lg(mu)  ||d||  lg(rg) alpha_du alpha_pr  ls\n",
      "   0  6.4029186e-01 2.24e-03 1.00e+00  -1.0 0.00e+00    -  0.00e+00 0.00e+00   0\n",
      "   1  6.4024032e-01 6.67e-01 1.02e-01  -1.0 3.53e+00    -  9.90e-01 1.00e+00h  1\n",
      "   2  6.4020049e-01 1.06e+00 1.95e+01  -1.0 3.49e+02    -  9.90e-01 7.81e-03h  8\n",
      "   3  6.4018120e-01 3.57e-01 6.90e-03  -1.0 4.17e+00  -4.0 9.90e-01 1.00e+00H  1\n",
      "   4  6.4013052e-01 6.27e-01 1.92e-02  -1.0 1.22e+01  -4.5 9.91e-01 1.00e+00H  1\n",
      "   5  6.4009168e-01 4.89e+01 1.36e-01  -1.7 7.36e+00  -5.0 1.00e+00 1.00e+00h  1\n",
      "   6  6.4004322e-01 1.33e+01 1.23e-02  -2.5 4.69e+00  -5.4 1.00e+00 1.00e+00h  1\n",
      "   7  6.3991773e-01 7.36e-01 4.22e-04  -3.8 8.21e+00  -5.9 1.00e+00 1.00e+00h  1\n",
      "   8  5.2900362e-01 4.23e+02 1.97e-02  -5.7 1.39e+05    -  2.74e-02 4.98e-02f  1\n",
      "   9  5.4829063e-01 2.04e+02 1.23e+01  -5.7 1.14e+03    -  4.08e-01 1.00e+00H  1\n",
      "iter    objective    inf_pr   inf_du lg(mu)  ||d||  lg(rg) alpha_du alpha_pr  ls\n",
      "  10  5.4768206e-01 1.75e+02 5.80e-01  -5.7 1.13e+02    -  9.43e-01 3.71e-01h  1\n",
      "  11  5.4763461e-01 1.43e+02 2.05e-04  -5.7 1.68e+01    -  1.00e+00 1.00e+00h  1\n",
      "  12  5.4765919e-01 2.74e-01 8.49e-08  -5.7 1.09e+00    -  1.00e+00 1.00e+00h  1\n",
      "  13  5.4765924e-01 6.72e-08 1.84e-11  -5.7 2.58e-03    -  1.00e+00 1.00e+00h  1\n",
      "  14  5.4765740e-01 5.15e-03 1.91e-08  -8.6 2.14e-01    -  1.00e+00 1.00e+00h  1\n",
      "  15  5.4765740e-01 4.51e-10 2.52e-14  -8.6 7.06e-05    -  1.00e+00 1.00e+00h  1\n",
      "\n",
      "Number of Iterations....: 15\n",
      "\n",
      "                                   (scaled)                 (unscaled)\n",
      "Objective...............:   5.4765739937729829e-01    5.4765739937729829e-01\n",
      "Dual infeasibility......:   2.5175612675475776e-14    4.7352740400770301e-08\n",
      "Constraint violation....:   1.3642420526593924e-12    4.5110937207937241e-10\n",
      "Complementarity.........:   2.5059036381815889e-09    2.5059036381815889e-09\n",
      "Overall NLP error.......:   2.5059036381815889e-09    4.7352740400770301e-08\n",
      "\n",
      "\n",
      "Number of objective function evaluations             = 31\n",
      "Number of objective gradient evaluations             = 16\n",
      "Number of equality constraint evaluations            = 31\n",
      "Number of inequality constraint evaluations          = 31\n",
      "Number of equality constraint Jacobian evaluations   = 16\n",
      "Number of inequality constraint Jacobian evaluations = 16\n",
      "Number of Lagrangian Hessian evaluations             = 15\n",
      "Total CPU secs in IPOPT (w/o function evaluations)   =      0.008\n",
      "Total CPU secs in NLP function evaluations           =      0.001\n",
      "\n",
      "EXIT: Optimal Solution Found.\n"
     ]
    }
   ],
   "source": [
    "results = solver.solve(m, tee=True)"
   ]
  },
  {
   "cell_type": "code",
   "execution_count": 32,
   "metadata": {
    "scrolled": false
   },
   "outputs": [
    {
     "name": "stdout",
     "output_type": "stream",
     "text": [
      "----------system metrics----------\n",
      "Recovery: 50.0 %\n",
      "Specific energy: 2.67 $/m3\n",
      "Levelized cost of water: 0.55 $/m3\n",
      "\n",
      "----------inlet and outlets----------\n",
      "Feed: 3.60 m3/h, 35000 ppm\n",
      "Product: 1.80 m3/h, 421 ppm\n",
      "Disposal: 1.80 m3/h, 67843 ppm\n",
      "\n",
      "----------decision variables----------\n",
      "Operating pressure: 57.0 bar\n",
      "Membrane area: 101.6 m2\n",
      "Inlet crossflow velocity: 16.4 cm/s\n",
      "\n",
      "----------system variables----------\n",
      "Pump power: 7.0 kW\n",
      "ERD power: 2.2 kW\n",
      "Average water flux: 17.7 L/(m2-h)\n",
      "Pressure drop: 1.0 bar\n",
      "Maximum interfacial salinity: 69989 ppm\n"
     ]
    }
   ],
   "source": [
    "display_results(m)"
   ]
  },
  {
   "cell_type": "markdown",
   "metadata": {},
   "source": [
    "### Change the membrane capital cost and reoptimize"
   ]
  },
  {
   "cell_type": "code",
   "execution_count": 33,
   "metadata": {},
   "outputs": [
    {
     "name": "stdout",
     "output_type": "stream",
     "text": [
      "----------system metrics----------\n",
      "Recovery: 50.0 %\n",
      "Specific energy: 2.78 $/m3\n",
      "Levelized cost of water: 0.64 $/m3\n",
      "\n",
      "----------inlet and outlets----------\n",
      "Feed: 3.60 m3/h, 35000 ppm\n",
      "Product: 1.80 m3/h, 379 ppm\n",
      "Disposal: 1.80 m3/h, 67881 ppm\n",
      "\n",
      "----------decision variables----------\n",
      "Operating pressure: 59.1 bar\n",
      "Membrane area: 90.9 m2\n",
      "Inlet crossflow velocity: 22.9 cm/s\n",
      "\n",
      "----------system variables----------\n",
      "Pump power: 7.3 kW\n",
      "ERD power: 2.3 kW\n",
      "Average water flux: 19.7 L/(m2-h)\n",
      "Pressure drop: 1.9 bar\n",
      "Maximum interfacial salinity: 70273 ppm\n"
     ]
    }
   ],
   "source": [
    "m.fs.costing.reverse_osmosis_membrane_cost.fix(60)\n",
    "results = solver.solve(m)\n",
    "display_results(m)"
   ]
  }
 ],
 "metadata": {
  "kernelspec": {
   "display_name": "Python 3 (ipykernel)",
   "language": "python",
   "name": "python3"
  },
  "language_info": {
   "codemirror_mode": {
    "name": "ipython",
    "version": 3
   },
   "file_extension": ".py",
   "mimetype": "text/x-python",
   "name": "python",
   "nbconvert_exporter": "python",
   "pygments_lexer": "ipython3",
   "version": "3.8.13"
  }
 },
 "nbformat": 4,
 "nbformat_minor": 4
}
